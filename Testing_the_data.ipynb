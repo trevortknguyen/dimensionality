{
 "cells": [
  {
   "cell_type": "markdown",
   "metadata": {},
   "source": [
    "# Science experiment\n",
    "\n",
    "I want to try technique.\n",
    "\n",
    "- Nothing. 4d tetrode. -> MSE decode.\n",
    "- PCA. 3d tetrode. -> MSE decode.\n",
    "- Autoencoder. 3d tetrode. -> MSE decode.\n",
    "\n",
    "For each technique, I need to do the following:\n",
    "- get the spikes in the right format\n",
    "- transform properly\n",
    "- fit model\n",
    "- predict model\n",
    "- MSE on model\n",
    "\n",
    "None of this is realtime."
   ]
  },
  {
   "cell_type": "code",
   "execution_count": 1,
   "metadata": {},
   "outputs": [],
   "source": [
    "import neural_dimensionality_reduction as ndr"
   ]
  },
  {
   "cell_type": "code",
   "execution_count": 2,
   "metadata": {},
   "outputs": [],
   "source": [
    "import numpy as np\n",
    "from replay_trajectory_classification import ClusterlessDecoder\n",
    "\n",
    "model_kwargs = {\n",
    "    'bandwidth': np.array([1.0, 1.0, 1.0, 1.0, 12.5]) # amplitude 1, amplitude 2, amplitude 3, amplitude 4, position\n",
    "    }"
   ]
  },
  {
   "cell_type": "markdown",
   "metadata": {},
   "source": [
    "## Step 1: Just do tetrode (d=4) no reduction"
   ]
  },
  {
   "cell_type": "code",
   "execution_count": 3,
   "metadata": {},
   "outputs": [
    {
     "name": "stderr",
     "output_type": "stream",
     "text": [
      "/nix/store/0m459gzwib59dgahny5wrpwk0v1g17sq-python3-3.7.6-env/lib/python3.7/site-packages/IPython/core/interactiveshell.py:3254: DtypeWarning: Columns (11,12,13,15) have mixed types.Specify dtype option on import or set low_memory=False.\n",
      "  if (await self.run_code(code, result,  async_=asy)):\n"
     ]
    }
   ],
   "source": [
    "data1, position = ndr.get_formatted_data(ndr.data_dir)"
   ]
  },
  {
   "cell_type": "code",
   "execution_count": 4,
   "metadata": {
    "scrolled": true
   },
   "outputs": [
    {
     "data": {
      "text/plain": [
       "(615851, 4, 1)"
      ]
     },
     "execution_count": 4,
     "metadata": {},
     "output_type": "execute_result"
    }
   ],
   "source": [
    "data1.shape"
   ]
  },
  {
   "cell_type": "code",
   "execution_count": 5,
   "metadata": {
    "scrolled": true
   },
   "outputs": [
    {
     "data": {
      "text/plain": [
       "(615851,)"
      ]
     },
     "execution_count": 5,
     "metadata": {},
     "output_type": "execute_result"
    }
   ],
   "source": [
    "position.shape"
   ]
  },
  {
   "cell_type": "code",
   "execution_count": 6,
   "metadata": {},
   "outputs": [],
   "source": [
    "decoder1 = ClusterlessDecoder(model_kwargs=model_kwargs)"
   ]
  },
  {
   "cell_type": "code",
   "execution_count": 7,
   "metadata": {},
   "outputs": [
    {
     "name": "stderr",
     "output_type": "stream",
     "text": [
      "/home/trevortknguyen/repos/dimensionality/replay_trajectory_classification/state_transition.py:10: RuntimeWarning: invalid value encountered in true_divide\n",
      "  x /= x.sum(axis=1, keepdims=True)\n"
     ]
    },
    {
     "data": {
      "text/plain": [
       "ClusterlessDecoder(infer_track_interior=True,\n",
       "                   initial_conditions_type='uniform_on_track',\n",
       "                   model=<class 'replay_trajectory_classification.misc.NumbaKDE'>,\n",
       "                   model_kwargs={'bandwidth': array([ 1. ,  1. ,  1. ,  1. , 12.5])},\n",
       "                   movement_var=0.05,\n",
       "                   occupancy_kwargs={'bandwidth': array([ 1. ,  1. ,  1. ,  1. , 12.5])},\n",
       "                   occupancy_model=<class 'replay_trajectory_classification.misc.NumbaKDE'>,\n",
       "                   place_bin_size=2.0, position_range=None, replay_speed=40,\n",
       "                   transition_type='random_walk')"
      ]
     },
     "execution_count": 7,
     "metadata": {},
     "output_type": "execute_result"
    }
   ],
   "source": [
    "decoder1.fit(position, data1)"
   ]
  },
  {
   "cell_type": "code",
   "execution_count": 8,
   "metadata": {},
   "outputs": [],
   "source": [
    "time_ind = slice(0, 5000)\n",
    "time = np.linspace(0, 1, data1.shape[0])"
   ]
  },
  {
   "cell_type": "code",
   "execution_count": 9,
   "metadata": {},
   "outputs": [
    {
     "data": {
      "text/html": [
       "<pre>&lt;xarray.Dataset&gt;\n",
       "Dimensions:            (position: 172, time: 5000)\n",
       "Coordinates:\n",
       "  * time               (time) float64 0.0 1.624e-06 ... 0.008116 0.008117\n",
       "  * position           (position) float64 0.9966 2.99 4.983 ... 339.8 341.8\n",
       "Data variables:\n",
       "    likelihood         (time, position) float64 0.9854 0.9854 ... 0.9953 0.9954\n",
       "    causal_posterior   (time, position) float64 0.006352 0.006352 ... 2.699e-67\n",
       "    acausal_posterior  (time, position) float64 7.815e-16 ... 2.699e-67</pre>"
      ],
      "text/plain": [
       "<xarray.Dataset>\n",
       "Dimensions:            (position: 172, time: 5000)\n",
       "Coordinates:\n",
       "  * time               (time) float64 0.0 1.624e-06 ... 0.008116 0.008117\n",
       "  * position           (position) float64 0.9966 2.99 4.983 ... 339.8 341.8\n",
       "Data variables:\n",
       "    likelihood         (time, position) float64 0.9854 0.9854 ... 0.9953 0.9954\n",
       "    causal_posterior   (time, position) float64 0.006352 0.006352 ... 2.699e-67\n",
       "    acausal_posterior  (time, position) float64 7.815e-16 ... 2.699e-67"
      ]
     },
     "execution_count": 9,
     "metadata": {},
     "output_type": "execute_result"
    }
   ],
   "source": [
    "results1 = decoder1.predict(data1[time_ind], time=time[time_ind])\n",
    "results1"
   ]
  },
  {
   "cell_type": "code",
   "execution_count": 11,
   "metadata": {},
   "outputs": [
    {
     "data": {
      "text/plain": [
       "3911.163288955438"
      ]
     },
     "execution_count": 11,
     "metadata": {},
     "output_type": "execute_result"
    }
   ],
   "source": [
    "ndr.calculate_mse_causal(results1, position, time_ind)"
   ]
  },
  {
   "cell_type": "markdown",
   "metadata": {},
   "source": [
    "## Step 2: Do PCA reduction"
   ]
  },
  {
   "cell_type": "code",
   "execution_count": 12,
   "metadata": {},
   "outputs": [
    {
     "name": "stderr",
     "output_type": "stream",
     "text": [
      "/nix/store/0m459gzwib59dgahny5wrpwk0v1g17sq-python3-3.7.6-env/lib/python3.7/site-packages/IPython/core/interactiveshell.py:3254: DtypeWarning: Columns (11,12,13,15) have mixed types.Specify dtype option on import or set low_memory=False.\n",
      "  if (await self.run_code(code, result,  async_=asy)):\n"
     ]
    }
   ],
   "source": [
    "data2, position = ndr.get_formatted_data(ndr.)).data_dir)"
   ]
  },
  {
   "cell_type": "code",
   "execution_count": 13,
   "metadata": {},
   "outputs": [],
   "source": [
    "na = data2.reshape((data2.shape[0], 4,))"
   ]
  },
  {
   "cell_type": "code",
   "execution_count": 14,
   "metadata": {},
   "outputs": [],
   "source": [
    "spikes_bool = np.logical_not(np.isnan(na)).any(axis=1)\n",
    "spikes_idx = np.argwhere(spikes_bool)"
   ]
  },
  {
   "cell_type": "code",
   "execution_count": 15,
   "metadata": {
    "scrolled": true
   },
   "outputs": [],
   "source": [
    "spikes_idx = spikes_idx.reshape((spikes_idx.shape[0]))"
   ]
  },
  {
   "cell_type": "code",
   "execution_count": 16,
   "metadata": {},
   "outputs": [
    {
     "data": {
      "text/plain": [
       "(62003, 4)"
      ]
     },
     "execution_count": 16,
     "metadata": {},
     "output_type": "execute_result"
    }
   ],
   "source": [
    "na[spikes_idx].shape"
   ]
  },
  {
   "cell_type": "code",
   "execution_count": 17,
   "metadata": {},
   "outputs": [],
   "source": [
    "transformed = ndr.transform_spikes_to_marks(na[spikes_idx])"
   ]
  },
  {
   "cell_type": "code",
   "execution_count": 18,
   "metadata": {},
   "outputs": [],
   "source": [
    "transformed_good = np.empty((data2.shape[0],3,1))\n",
    "transformed_good[:] = np.nan\n",
    "transformed_good[:,:,0][spikes_idx] = transformed"
   ]
  },
  {
   "cell_type": "code",
   "execution_count": 20,
   "metadata": {},
   "outputs": [],
   "source": [
    "decoder2 = ClusterlessDecoder(model_kwargs=model_kwargs)"
   ]
  },
  {
   "cell_type": "code",
   "execution_count": 21,
   "metadata": {},
   "outputs": [
    {
     "name": "stderr",
     "output_type": "stream",
     "text": [
      "/home/trevortknguyen/repos/dimensionality/replay_trajectory_classification/state_transition.py:10: RuntimeWarning: invalid value encountered in true_divide\n",
      "  x /= x.sum(axis=1, keepdims=True)\n"
     ]
    },
    {
     "data": {
      "text/plain": [
       "ClusterlessDecoder(infer_track_interior=True,\n",
       "                   initial_conditions_type='uniform_on_track',\n",
       "                   model=<class 'replay_trajectory_classification.misc.NumbaKDE'>,\n",
       "                   model_kwargs={'bandwidth': array([ 1. ,  1. ,  1. ,  1. , 12.5])},\n",
       "                   movement_var=0.05,\n",
       "                   occupancy_kwargs={'bandwidth': array([ 1. ,  1. ,  1. ,  1. , 12.5])},\n",
       "                   occupancy_model=<class 'replay_trajectory_classification.misc.NumbaKDE'>,\n",
       "                   place_bin_size=2.0, position_range=None, replay_speed=40,\n",
       "                   transition_type='random_walk')"
      ]
     },
     "execution_count": 21,
     "metadata": {},
     "output_type": "execute_result"
    }
   ],
   "source": [
    "decoder2.fit(position, transformed_good)"
   ]
  },
  {
   "cell_type": "code",
   "execution_count": 22,
   "metadata": {},
   "outputs": [],
   "source": [
    "time_ind = slice(0, 5000)\n",
    "time = np.linspace(0, 1, transformed_good.shape[0])"
   ]
  },
  {
   "cell_type": "code",
   "execution_count": 23,
   "metadata": {
    "scrolled": true
   },
   "outputs": [
    {
     "data": {
      "text/html": [
       "<pre>&lt;xarray.Dataset&gt;\n",
       "Dimensions:            (position: 172, time: 5000)\n",
       "Coordinates:\n",
       "  * time               (time) float64 0.0 1.624e-06 ... 0.008116 0.008117\n",
       "  * position           (position) float64 0.9966 2.99 4.983 ... 339.8 341.8\n",
       "Data variables:\n",
       "    likelihood         (time, position) float64 0.9854 0.9854 ... 0.9953 0.9954\n",
       "    causal_posterior   (time, position) float64 0.006352 0.006352 ... 0.04214\n",
       "    acausal_posterior  (time, position) float64 4.335e-11 5.679e-11 ... 0.04214</pre>"
      ],
      "text/plain": [
       "<xarray.Dataset>\n",
       "Dimensions:            (position: 172, time: 5000)\n",
       "Coordinates:\n",
       "  * time               (time) float64 0.0 1.624e-06 ... 0.008116 0.008117\n",
       "  * position           (position) float64 0.9966 2.99 4.983 ... 339.8 341.8\n",
       "Data variables:\n",
       "    likelihood         (time, position) float64 0.9854 0.9854 ... 0.9953 0.9954\n",
       "    causal_posterior   (time, position) float64 0.006352 0.006352 ... 0.04214\n",
       "    acausal_posterior  (time, position) float64 4.335e-11 5.679e-11 ... 0.04214"
      ]
     },
     "execution_count": 23,
     "metadata": {},
     "output_type": "execute_result"
    }
   ],
   "source": [
    "results = decoder2.predict(transformed_good[time_ind], time=time[time_ind])\n",
    "results"
   ]
  },
  {
   "cell_type": "code",
   "execution_count": 24,
   "metadata": {},
   "outputs": [
    {
     "data": {
      "text/plain": [
       "1665.1166659955381"
      ]
     },
     "execution_count": 24,
     "metadata": {},
     "output_type": "execute_result"
    }
   ],
   "source": [
    "ndr.calculate_mse_causal(results, position, time_ind)"
   ]
  },
  {
   "cell_type": "markdown",
   "metadata": {},
   "source": [
    "## Step 3: Do autoencoder reduction"
   ]
  },
  {
   "cell_type": "code",
   "execution_count": 26,
   "metadata": {
    "scrolled": true
   },
   "outputs": [
    {
     "name": "stderr",
     "output_type": "stream",
     "text": [
      "/nix/store/0m459gzwib59dgahny5wrpwk0v1g17sq-python3-3.7.6-env/lib/python3.7/site-packages/IPython/core/interactiveshell.py:3254: DtypeWarning: Columns (11,12,13,15) have mixed types.Specify dtype option on import or set low_memory=False.\n",
      "  if (await self.run_code(code, result,  async_=asy)):\n"
     ]
    }
   ],
   "source": [
    "data3, position = ndr.get_formatted_data(ndr.data_dir)"
   ]
  },
  {
   "cell_type": "code",
   "execution_count": 27,
   "metadata": {},
   "outputs": [],
   "source": [
    "na = data3.reshape((data3.shape[0], 4,))"
   ]
  },
  {
   "cell_type": "code",
   "execution_count": 28,
   "metadata": {},
   "outputs": [],
   "source": [
    "spikes_bool = np.logical_not(np.isnan(na)).any(axis=1)\n",
    "spikes_idx = np.argwhere(spikes_bool)\n",
    "spikes_idx = spikes_idx.reshape((spikes_idx.shape[0]))"
   ]
  },
  {
   "cell_type": "code",
   "execution_count": 33,
   "metadata": {},
   "outputs": [],
   "source": [
    "spikes_only = na[spikes_idx]"
   ]
  },
  {
   "cell_type": "code",
   "execution_count": 34,
   "metadata": {},
   "outputs": [],
   "source": [
    "import torch"
   ]
  },
  {
   "cell_type": "code",
   "execution_count": 35,
   "metadata": {},
   "outputs": [],
   "source": [
    "x_train_torch = torch.from_numpy(spikes_only)"
   ]
  },
  {
   "cell_type": "code",
   "execution_count": 37,
   "metadata": {},
   "outputs": [],
   "source": [
    "D_in = D_out = 4\n",
    "H = 3"
   ]
  },
  {
   "cell_type": "code",
   "execution_count": 38,
   "metadata": {},
   "outputs": [],
   "source": [
    "class Autoencoder(torch.nn.Module):\n",
    "    def __init__(self, D_in, H, D_out):\n",
    "        super(Autoencoder, self).__init__()\n",
    "        self.fc1 = torch.nn.Linear(D_in, H)\n",
    "        self.fc2 = torch.nn.LeakyReLU()\n",
    "        self.fc3 = torch.nn.Linear(H, D_out)\n",
    "        \n",
    "    def forward(self, x):\n",
    "        x = self.fc1(x)\n",
    "        x = self.fc2(x)\n",
    "        x = self.fc3(x)\n",
    "        return x\n",
    "\n",
    "    def dim_reduce(self, x):\n",
    "        with torch.no_grad():\n",
    "            x = self.fc1(x)\n",
    "            return x"
   ]
  },
  {
   "cell_type": "code",
   "execution_count": 39,
   "metadata": {},
   "outputs": [],
   "source": [
    "model = Autoencoder(D_in, H, D_out)"
   ]
  },
  {
   "cell_type": "code",
   "execution_count": 42,
   "metadata": {},
   "outputs": [
    {
     "name": "stdout",
     "output_type": "stream",
     "text": [
      "99 17896.86328125\n",
      "99 17686.0\n",
      "99 17298.318359375\n",
      "99 16855.576171875\n",
      "99 16380.580078125\n",
      "99 15873.697265625\n",
      "99 15337.7958984375\n",
      "99 14778.1748046875\n",
      "99 14200.734375\n",
      "99 13611.6181640625\n",
      "99 13016.8896484375\n",
      "99 12320.671875\n",
      "99 11365.453125\n",
      "99 10560.802734375\n",
      "99 9872.921875\n",
      "99 9274.109375\n",
      "99 8739.732421875\n",
      "99 8248.6171875\n",
      "99 7784.8984375\n",
      "99 7338.5693359375\n",
      "99 6903.5126953125\n",
      "99 6475.4814453125\n",
      "99 6051.51416015625\n",
      "99 5630.19091796875\n",
      "99 5211.78271484375\n",
      "99 4798.01953125\n",
      "99 4391.64892578125\n",
      "99 3996.026611328125\n",
      "99 3614.762939453125\n",
      "99 3251.40185546875\n",
      "99 2909.149658203125\n",
      "99 2590.657958984375\n",
      "99 2297.84912109375\n",
      "99 2031.826416015625\n",
      "99 1792.8397216796875\n",
      "99 1580.3270263671875\n",
      "99 1393.021240234375\n",
      "99 1229.1021728515625\n",
      "99 1086.39013671875\n",
      "99 962.5504150390625\n",
      "99 855.2749633789062\n",
      "99 762.4345092773438\n",
      "99 682.1687622070312\n",
      "99 612.9224853515625\n",
      "99 553.4224243164062\n",
      "99 502.62615966796875\n",
      "99 459.6519470214844\n",
      "99 423.7140808105469\n",
      "99 394.07110595703125\n",
      "99 369.9969482421875\n"
     ]
    }
   ],
   "source": [
    "from math import ceil\n",
    "loss_fn = torch.nn.MSELoss()\n",
    "\n",
    "learning_rate = 1e-4\n",
    "optimizer = torch.optim.Adam(model.parameters(), lr=learning_rate)\n",
    "\n",
    "epochs = 50\n",
    "batch_size = 512\n",
    "\n",
    "examples, _ = x_train_torch.shape\n",
    "\n",
    "for e in range(epochs):\n",
    "    for t in range(ceil(examples/batch_size)):\n",
    "        x_slice = x_train_torch[t * batch_size : (t+1) * batch_size]\n",
    "\n",
    "        y_pred = model(x_slice)\n",
    "\n",
    "        loss = loss_fn(y_pred, x_slice)\n",
    "        if t % 100 == 99:\n",
    "            print(t, loss.item())\n",
    "\n",
    "        optimizer.zero_grad()\n",
    "\n",
    "        loss.backward()\n",
    "\n",
    "        optimizer.step()"
   ]
  },
  {
   "cell_type": "code",
   "execution_count": 43,
   "metadata": {},
   "outputs": [],
   "source": [
    "xs_result = model.dim_reduce(x_train_torch).numpy()"
   ]
  },
  {
   "cell_type": "code",
   "execution_count": 46,
   "metadata": {},
   "outputs": [],
   "source": [
    "transformed_good = np.empty((data2.shape[0],3,1))\n",
    "transformed_good[:] = np.nan\n",
    "transformed_good[:,:,0][spikes_idx] = xs_result"
   ]
  },
  {
   "cell_type": "code",
   "execution_count": 49,
   "metadata": {},
   "outputs": [],
   "source": [
    "decoder3 = ClusterlessDecoder(model_kwargs=model_kwargs)"
   ]
  },
  {
   "cell_type": "code",
   "execution_count": 50,
   "metadata": {
    "scrolled": true
   },
   "outputs": [
    {
     "name": "stderr",
     "output_type": "stream",
     "text": [
      "/home/trevortknguyen/repos/dimensionality/replay_trajectory_classification/state_transition.py:10: RuntimeWarning: invalid value encountered in true_divide\n",
      "  x /= x.sum(axis=1, keepdims=True)\n"
     ]
    },
    {
     "data": {
      "text/plain": [
       "ClusterlessDecoder(infer_track_interior=True,\n",
       "                   initial_conditions_type='uniform_on_track',\n",
       "                   model=<class 'replay_trajectory_classification.misc.NumbaKDE'>,\n",
       "                   model_kwargs={'bandwidth': array([ 1. ,  1. ,  1. ,  1. , 12.5])},\n",
       "                   movement_var=0.05,\n",
       "                   occupancy_kwargs={'bandwidth': array([ 1. ,  1. ,  1. ,  1. , 12.5])},\n",
       "                   occupancy_model=<class 'replay_trajectory_classification.misc.NumbaKDE'>,\n",
       "                   place_bin_size=2.0, position_range=None, replay_speed=40,\n",
       "                   transition_type='random_walk')"
      ]
     },
     "execution_count": 50,
     "metadata": {},
     "output_type": "execute_result"
    }
   ],
   "source": [
    "decoder3.fit(position, transformed_good)"
   ]
  },
  {
   "cell_type": "code",
   "execution_count": 51,
   "metadata": {},
   "outputs": [],
   "source": [
    "time_ind = slice(0, 5000)\n",
    "time = np.linspace(0, 1, transformed_good.shape[0])"
   ]
  },
  {
   "cell_type": "code",
   "execution_count": 53,
   "metadata": {},
   "outputs": [
    {
     "data": {
      "text/html": [
       "<pre>&lt;xarray.Dataset&gt;\n",
       "Dimensions:            (position: 172, time: 5000)\n",
       "Coordinates:\n",
       "  * time               (time) float64 0.0 1.624e-06 ... 0.008116 0.008117\n",
       "  * position           (position) float64 0.9966 2.99 4.983 ... 339.8 341.8\n",
       "Data variables:\n",
       "    likelihood         (time, position) float64 0.9854 0.9854 ... 0.9953 0.9954\n",
       "    causal_posterior   (time, position) float64 0.006352 0.006352 ... 4.879e-44\n",
       "    acausal_posterior  (time, position) float64 2.096e-11 ... 4.879e-44</pre>"
      ],
      "text/plain": [
       "<xarray.Dataset>\n",
       "Dimensions:            (position: 172, time: 5000)\n",
       "Coordinates:\n",
       "  * time               (time) float64 0.0 1.624e-06 ... 0.008116 0.008117\n",
       "  * position           (position) float64 0.9966 2.99 4.983 ... 339.8 341.8\n",
       "Data variables:\n",
       "    likelihood         (time, position) float64 0.9854 0.9854 ... 0.9953 0.9954\n",
       "    causal_posterior   (time, position) float64 0.006352 0.006352 ... 4.879e-44\n",
       "    acausal_posterior  (time, position) float64 2.096e-11 ... 4.879e-44"
      ]
     },
     "execution_count": 53,
     "metadata": {},
     "output_type": "execute_result"
    }
   ],
   "source": [
    "results3 = decoder3.predict(transformed_good[time_ind], time=time[time_ind])\n",
    "results3"
   ]
  },
  {
   "cell_type": "code",
   "execution_count": 54,
   "metadata": {},
   "outputs": [
    {
     "data": {
      "text/plain": [
       "4860.100245455682"
      ]
     },
     "execution_count": 54,
     "metadata": {},
     "output_type": "execute_result"
    }
   ],
   "source": [
    "ndr.calculate_mse_causal(results3, position, time_ind)"
   ]
  },
  {
   "cell_type": "code",
   "execution_count": null,
   "metadata": {},
   "outputs": [],
   "source": []
  }
 ],
 "metadata": {
  "kernelspec": {
   "display_name": "Python 3",
   "language": "python",
   "name": "python3"
  },
  "language_info": {
   "codemirror_mode": {
    "name": "ipython",
    "version": 3
   },
   "file_extension": ".py",
   "mimetype": "text/x-python",
   "name": "python",
   "nbconvert_exporter": "python",
   "pygments_lexer": "ipython3",
   "version": "3.7.6"
  }
 },
 "nbformat": 4,
 "nbformat_minor": 4
}
