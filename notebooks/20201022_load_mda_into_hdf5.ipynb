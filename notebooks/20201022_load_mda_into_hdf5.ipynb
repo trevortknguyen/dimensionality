{
 "cells": [
  {
   "cell_type": "markdown",
   "metadata": {},
   "source": [
    "# Loading MDA files into HDF5\n",
    "\n",
    "Problem. I want to write an implementation of MUSIC in Julia because I understand how to optimize Julia code much better than how to optimize Python code.\n",
    "\n",
    "Other problem. The raw data is in an MDA file, which is specific for MountainSort and I doubt there is a library for reading that file format in Julia.\n",
    "\n",
    "Solution: So I'd like to put it into HDF5 to make analysis in Julia easier. I think a dataset for each tetrode makes sense."
   ]
  },
  {
   "cell_type": "code",
   "execution_count": 1,
   "metadata": {},
   "outputs": [],
   "source": [
    "import pyms.mlpy as mlpy\n",
    "import numpy as np\n",
    "import h5py"
   ]
  },
  {
   "cell_type": "code",
   "execution_count": 2,
   "metadata": {},
   "outputs": [],
   "source": [
    "mda_dir = '/media/trevortknguyen/a8a15e97-b12c-4825-8482-0be8f89aac96/20170920_remy_02_r1/20170920_remy_02_r1.mda'\n",
    "file_prefix = '20170920_remy_02_r1'\n",
    "hdf5_fname = '../remy_raw.hdf5'"
   ]
  },
  {
   "cell_type": "code",
   "execution_count": 3,
   "metadata": {},
   "outputs": [],
   "source": [
    "def get_tetrode_file(mda_dir, file_prefix, ntrodeid):\n",
    "    file_path = f'{mda_dir}/{file_prefix}.nt{str(ntrodeid)}.mda'\n",
    "    return file_path\n",
    "\n",
    "def read_mda_file(mda_dir, filename):\n",
    "    file_path = f'{mda_dir}/{filename}'\n",
    "    return mlpy.readmda(file_path)"
   ]
  },
  {
   "cell_type": "code",
   "execution_count": 4,
   "metadata": {},
   "outputs": [],
   "source": [
    "mda_fname = get_tetrode_file(mda_dir, file_prefix, 1)\n",
    "neural_data = mlpy.readmda(mda_fname)"
   ]
  },
  {
   "cell_type": "code",
   "execution_count": 5,
   "metadata": {},
   "outputs": [
    {
     "data": {
      "text/plain": [
       "(4, 36975610)"
      ]
     },
     "execution_count": 5,
     "metadata": {},
     "output_type": "execute_result"
    }
   ],
   "source": [
    "neural_data.shape"
   ]
  },
  {
   "cell_type": "code",
   "execution_count": 18,
   "metadata": {},
   "outputs": [],
   "source": [
    "# this will overwrite the file, so don't call this after file is written\n",
    "with h5py.File(hdf5_fname, 'w') as f:\n",
    "    f.visit(print)"
   ]
  },
  {
   "cell_type": "code",
   "execution_count": 46,
   "metadata": {},
   "outputs": [
    {
     "name": "stdout",
     "output_type": "stream",
     "text": [
      "tetrode_1\n",
      "tetrode_10\n",
      "tetrode_11\n",
      "tetrode_12\n",
      "tetrode_13\n",
      "tetrode_14\n",
      "tetrode_15\n",
      "tetrode_16\n",
      "tetrode_17\n",
      "tetrode_18\n",
      "tetrode_19\n",
      "tetrode_2\n",
      "tetrode_20\n",
      "tetrode_21\n",
      "tetrode_22\n",
      "tetrode_23\n",
      "tetrode_24\n",
      "tetrode_25\n",
      "tetrode_26\n",
      "tetrode_27\n",
      "tetrode_28\n",
      "tetrode_29\n",
      "tetrode_3\n",
      "tetrode_30\n",
      "tetrode_31\n",
      "tetrode_32\n",
      "tetrode_4\n",
      "tetrode_5\n",
      "tetrode_6\n",
      "tetrode_7\n",
      "tetrode_8\n",
      "tetrode_9\n"
     ]
    }
   ],
   "source": [
    "with h5py.File(hdf5_fname, 'r') as f:\n",
    "    f.visit(print)"
   ]
  },
  {
   "cell_type": "code",
   "execution_count": 37,
   "metadata": {},
   "outputs": [],
   "source": [
    "def load_data(hdf5_fname, mda_dir, file_prefix, tetrode_id):\n",
    "    mda_fname = get_tetrode_file(mda_dir, file_prefix, tetrode_id)\n",
    "    neural_data = mlpy.readmda(mda_fname).T\n",
    "\n",
    "    with h5py.File(hdf5_fname, 'r+') as f:                                        \n",
    "        ds = f.create_dataset(f'tetrode_{tetrode_id}', neural_data.shape, dtype='i2')\n",
    "        ds[:] = neural_data"
   ]
  },
  {
   "cell_type": "code",
   "execution_count": 44,
   "metadata": {},
   "outputs": [],
   "source": [
    "for i in range(24, 33):\n",
    "    load_data(hdf5_fname, mda_dir, file_prefix, i)"
   ]
  },
  {
   "cell_type": "code",
   "execution_count": null,
   "metadata": {},
   "outputs": [],
   "source": []
  }
 ],
 "metadata": {
  "kernelspec": {
   "display_name": "Python 3",
   "language": "python",
   "name": "python3"
  },
  "language_info": {
   "codemirror_mode": {
    "name": "ipython",
    "version": 3
   },
   "file_extension": ".py",
   "mimetype": "text/x-python",
   "name": "python",
   "nbconvert_exporter": "python",
   "pygments_lexer": "ipython3",
   "version": "3.8.5"
  }
 },
 "nbformat": 4,
 "nbformat_minor": 4
}
