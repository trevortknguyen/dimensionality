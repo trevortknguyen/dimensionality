{
 "cells": [
  {
   "cell_type": "markdown",
   "metadata": {},
   "source": [
    "# Loading Clips MDA files into HDF5\n",
    "\n",
    "Problem. I want to write an implementation of MUSIC in Julia because I understand how to optimize Julia code much better than how to optimize Python code.\n",
    "\n",
    "Other problem. The raw data is in an MDA file, which is specific for MountainSort and I doubt there is a library for reading that file format in Julia.\n",
    "\n",
    "Solution: So I'd like to put it into HDF5 to make analysis in Julia easier. I think a dataset for each tetrode makes sense.\n",
    "\n",
    "(this is the same as the other notebook, but this time for clips)"
   ]
  },
  {
   "cell_type": "markdown",
   "metadata": {},
   "source": [
    "## Issues\n",
    "\n",
    "These things fail randomly and I don't know why, so I don't have all of the data to be honest. I'm just going to have to run things on small portions of data."
   ]
  },
  {
   "cell_type": "code",
   "execution_count": 1,
   "metadata": {},
   "outputs": [],
   "source": [
    "import pyms.mlpy as mlpy\n",
    "import numpy as np\n",
    "import h5py"
   ]
  },
  {
   "cell_type": "code",
   "execution_count": 2,
   "metadata": {},
   "outputs": [],
   "source": [
    "mda_dir = '/media/trevortknguyen/a8a15e97-b12c-4825-8482-0be8f89aac96/clips/clips/clips/'\n",
    "hdf5_fname = '../remy_clips.hdf5'"
   ]
  },
  {
   "cell_type": "code",
   "execution_count": 3,
   "metadata": {},
   "outputs": [],
   "source": [
    "def get_tetrode_clips_fname(mda_dir, tetrode_id):\n",
    "    return f'{mda_dir}/nt{str(tetrode_id)}/clips.mda'"
   ]
  },
  {
   "cell_type": "code",
   "execution_count": null,
   "metadata": {},
   "outputs": [],
   "source": [
    "# this will overwrite the file, so don't call this after file is written\n",
    "with h5py.File(hdf5_fname, 'w') as f:\n",
    "    f.visit(print)"
   ]
  },
  {
   "cell_type": "code",
   "execution_count": 7,
   "metadata": {},
   "outputs": [
    {
     "name": "stdout",
     "output_type": "stream",
     "text": [
      "tetrode_1\n",
      "tetrode_10\n",
      "tetrode_11\n",
      "tetrode_12\n",
      "tetrode_13\n",
      "tetrode_14\n",
      "tetrode_15\n",
      "tetrode_16\n",
      "tetrode_17\n",
      "tetrode_18\n",
      "tetrode_19\n",
      "tetrode_2\n",
      "tetrode_20\n",
      "tetrode_21\n",
      "tetrode_22\n",
      "tetrode_23\n",
      "tetrode_24\n",
      "tetrode_25\n",
      "tetrode_26\n",
      "tetrode_27\n",
      "tetrode_28\n",
      "tetrode_3\n",
      "tetrode_4\n",
      "tetrode_5\n",
      "tetrode_6\n",
      "tetrode_7\n",
      "tetrode_8\n",
      "tetrode_9\n"
     ]
    }
   ],
   "source": [
    "with h5py.File(hdf5_fname, 'r') as f:\n",
    "    f.visit(print)"
   ]
  },
  {
   "cell_type": "code",
   "execution_count": 5,
   "metadata": {},
   "outputs": [],
   "source": [
    "def load_data(hdf5_fname, mda_dir, tetrode_id):\n",
    "    mda_fname = get_tetrode_clips_fname(mda_dir, tetrode_id)\n",
    "    neural_data = mlpy.readmda(mda_fname)\n",
    "\n",
    "    with h5py.File(hdf5_fname, 'r+') as f:                                        \n",
    "        ds = f.create_dataset(f'tetrode_{tetrode_id}', neural_data.shape, dtype='f')\n",
    "        ds[:,:,:] = neural_data"
   ]
  },
  {
   "cell_type": "code",
   "execution_count": 6,
   "metadata": {},
   "outputs": [
    {
     "name": "stdout",
     "output_type": "stream",
     "text": [
      "cannot reshape array of size 200695802 into shape (4,45,1323550)\n"
     ]
    },
    {
     "ename": "AttributeError",
     "evalue": "'NoneType' object has no attribute 'shape'",
     "output_type": "error",
     "traceback": [
      "\u001b[0;31m---------------------------------------------------------------------------\u001b[0m",
      "\u001b[0;31mAttributeError\u001b[0m                            Traceback (most recent call last)",
      "\u001b[0;32m<ipython-input-6-87fb6c0f0709>\u001b[0m in \u001b[0;36m<module>\u001b[0;34m\u001b[0m\n\u001b[1;32m      1\u001b[0m \u001b[0;32mfor\u001b[0m \u001b[0mi\u001b[0m \u001b[0;32min\u001b[0m \u001b[0mrange\u001b[0m\u001b[0;34m(\u001b[0m\u001b[0;36m9\u001b[0m\u001b[0;34m,\u001b[0m \u001b[0;36m33\u001b[0m\u001b[0;34m)\u001b[0m\u001b[0;34m:\u001b[0m\u001b[0;34m\u001b[0m\u001b[0;34m\u001b[0m\u001b[0m\n\u001b[0;32m----> 2\u001b[0;31m     \u001b[0mload_data\u001b[0m\u001b[0;34m(\u001b[0m\u001b[0mhdf5_fname\u001b[0m\u001b[0;34m,\u001b[0m \u001b[0mmda_dir\u001b[0m\u001b[0;34m,\u001b[0m \u001b[0mi\u001b[0m\u001b[0;34m)\u001b[0m\u001b[0;34m\u001b[0m\u001b[0;34m\u001b[0m\u001b[0m\n\u001b[0m",
      "\u001b[0;32m<ipython-input-5-5e75eba87f64>\u001b[0m in \u001b[0;36mload_data\u001b[0;34m(hdf5_fname, mda_dir, tetrode_id)\u001b[0m\n\u001b[1;32m      4\u001b[0m \u001b[0;34m\u001b[0m\u001b[0m\n\u001b[1;32m      5\u001b[0m     \u001b[0;32mwith\u001b[0m \u001b[0mh5py\u001b[0m\u001b[0;34m.\u001b[0m\u001b[0mFile\u001b[0m\u001b[0;34m(\u001b[0m\u001b[0mhdf5_fname\u001b[0m\u001b[0;34m,\u001b[0m \u001b[0;34m'r+'\u001b[0m\u001b[0;34m)\u001b[0m \u001b[0;32mas\u001b[0m \u001b[0mf\u001b[0m\u001b[0;34m:\u001b[0m\u001b[0;34m\u001b[0m\u001b[0;34m\u001b[0m\u001b[0m\n\u001b[0;32m----> 6\u001b[0;31m         \u001b[0mds\u001b[0m \u001b[0;34m=\u001b[0m \u001b[0mf\u001b[0m\u001b[0;34m.\u001b[0m\u001b[0mcreate_dataset\u001b[0m\u001b[0;34m(\u001b[0m\u001b[0;34mf'tetrode_{tetrode_id}'\u001b[0m\u001b[0;34m,\u001b[0m \u001b[0mneural_data\u001b[0m\u001b[0;34m.\u001b[0m\u001b[0mshape\u001b[0m\u001b[0;34m,\u001b[0m \u001b[0mdtype\u001b[0m\u001b[0;34m=\u001b[0m\u001b[0;34m'f'\u001b[0m\u001b[0;34m)\u001b[0m\u001b[0;34m\u001b[0m\u001b[0;34m\u001b[0m\u001b[0m\n\u001b[0m\u001b[1;32m      7\u001b[0m         \u001b[0mds\u001b[0m\u001b[0;34m[\u001b[0m\u001b[0;34m:\u001b[0m\u001b[0;34m,\u001b[0m\u001b[0;34m:\u001b[0m\u001b[0;34m,\u001b[0m\u001b[0;34m:\u001b[0m\u001b[0;34m]\u001b[0m \u001b[0;34m=\u001b[0m \u001b[0mneural_data\u001b[0m\u001b[0;34m\u001b[0m\u001b[0;34m\u001b[0m\u001b[0m\n",
      "\u001b[0;31mAttributeError\u001b[0m: 'NoneType' object has no attribute 'shape'"
     ]
    }
   ],
   "source": [
    "for i in range(9, 33):\n",
    "    load_data(hdf5_fname, mda_dir, i)"
   ]
  },
  {
   "cell_type": "code",
   "execution_count": 14,
   "metadata": {},
   "outputs": [],
   "source": [
    "# check 8 because it may have corrupted data\n",
    "f = h5py.File(hdf5_fname, 'r')\n",
    "ds = f['tetrode_28']\n",
    "\n"
   ]
  },
  {
   "cell_type": "code",
   "execution_count": 16,
   "metadata": {},
   "outputs": [
    {
     "data": {
      "text/plain": [
       "(4, 45, 1748383)"
      ]
     },
     "execution_count": 16,
     "metadata": {},
     "output_type": "execute_result"
    }
   ],
   "source": []
  },
  {
   "cell_type": "code",
   "execution_count": 17,
   "metadata": {},
   "outputs": [],
   "source": [
    "mda_fname = get_tetrode_clips_fname(mda_dir, 28)\n",
    "neural_data = mlpy.readmda(mda_fname)"
   ]
  },
  {
   "cell_type": "code",
   "execution_count": 18,
   "metadata": {},
   "outputs": [
    {
     "data": {
      "text/plain": [
       "(4, 45, 1748383)"
      ]
     },
     "execution_count": 18,
     "metadata": {},
     "output_type": "execute_result"
    }
   ],
   "source": [
    "neural_data.shape"
   ]
  },
  {
   "cell_type": "code",
   "execution_count": null,
   "metadata": {},
   "outputs": [],
   "source": [
    "f.close()"
   ]
  }
 ],
 "metadata": {
  "kernelspec": {
   "display_name": "Python 3",
   "language": "python",
   "name": "python3"
  },
  "language_info": {
   "codemirror_mode": {
    "name": "ipython",
    "version": 3
   },
   "file_extension": ".py",
   "mimetype": "text/x-python",
   "name": "python",
   "nbconvert_exporter": "python",
   "pygments_lexer": "ipython3",
   "version": "3.8.5"
  }
 },
 "nbformat": 4,
 "nbformat_minor": 4
}
