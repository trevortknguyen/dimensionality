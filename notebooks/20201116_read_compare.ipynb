{
 "cells": [
  {
   "cell_type": "code",
   "execution_count": 1,
   "metadata": {},
   "outputs": [],
   "source": [
    "import neural_dimensionality_reduction as ndr\n",
    "import h5py"
   ]
  },
  {
   "cell_type": "code",
   "execution_count": 2,
   "metadata": {},
   "outputs": [],
   "source": [
    "fname = '../remy.hdf5'"
   ]
  },
  {
   "cell_type": "code",
   "execution_count": 3,
   "metadata": {
    "scrolled": true
   },
   "outputs": [
    {
     "name": "stdout",
     "output_type": "stream",
     "text": [
      "tetrode_0\n",
      "tetrode_0/marks\n",
      "tetrode_0/marks_som_1000_200\n",
      "tetrode_0/marks_som_500_500\n",
      "tetrode_0/marks_transformed\n",
      "tetrode_0/positions\n",
      "tetrode_1\n",
      "tetrode_1/marks\n",
      "tetrode_1/marks_som_1000_200\n",
      "tetrode_1/marks_som_500_500\n",
      "tetrode_1/marks_som_500_500_likelihood\n",
      "tetrode_1/marks_transformed\n",
      "tetrode_1/positions\n",
      "tetrode_10\n",
      "tetrode_10/marks\n",
      "tetrode_10/marks_som_1000_200\n",
      "tetrode_10/marks_som_500_500\n",
      "tetrode_10/marks_transformed\n",
      "tetrode_10/positions\n",
      "tetrode_11\n",
      "tetrode_11/marks\n",
      "tetrode_11/marks_som_1000_200\n",
      "tetrode_11/marks_som_500_500\n",
      "tetrode_11/marks_transformed\n",
      "tetrode_11/positions\n",
      "tetrode_12\n",
      "tetrode_12/marks\n",
      "tetrode_12/marks_som_1000_200\n",
      "tetrode_12/marks_som_500_500\n",
      "tetrode_12/marks_transformed\n",
      "tetrode_12/positions\n",
      "tetrode_13\n",
      "tetrode_13/marks\n",
      "tetrode_13/marks_som_1000_200\n",
      "tetrode_13/marks_som_500_500\n",
      "tetrode_13/marks_transformed\n",
      "tetrode_13/positions\n",
      "tetrode_14\n",
      "tetrode_14/marks\n",
      "tetrode_14/marks_som_1000_200\n",
      "tetrode_14/marks_som_500_500\n",
      "tetrode_14/marks_transformed\n",
      "tetrode_14/positions\n",
      "tetrode_15\n",
      "tetrode_15/marks\n",
      "tetrode_15/marks_som_1000_200\n",
      "tetrode_15/marks_som_500_500\n",
      "tetrode_15/marks_transformed\n",
      "tetrode_15/positions\n",
      "tetrode_16\n",
      "tetrode_16/marks\n",
      "tetrode_16/marks_som_1000_200\n",
      "tetrode_16/marks_som_500_500\n",
      "tetrode_16/marks_transformed\n",
      "tetrode_16/positions\n",
      "tetrode_17\n",
      "tetrode_17/marks\n",
      "tetrode_17/marks_som_1000_200\n",
      "tetrode_17/marks_som_500_500\n",
      "tetrode_17/marks_transformed\n",
      "tetrode_17/positions\n",
      "tetrode_18\n",
      "tetrode_18/marks\n",
      "tetrode_18/marks_som_1000_200\n",
      "tetrode_18/marks_som_500_500\n",
      "tetrode_18/marks_transformed\n",
      "tetrode_18/positions\n",
      "tetrode_19\n",
      "tetrode_19/marks\n",
      "tetrode_19/marks_som_1000_200\n",
      "tetrode_19/marks_som_500_500\n",
      "tetrode_19/marks_transformed\n",
      "tetrode_19/positions\n",
      "tetrode_2\n",
      "tetrode_2/marks\n",
      "tetrode_2/marks_som_1000_200\n",
      "tetrode_2/marks_som_500_500\n",
      "tetrode_2/marks_som_500_500_likelihood\n",
      "tetrode_2/marks_transformed\n",
      "tetrode_2/positions\n",
      "tetrode_20\n",
      "tetrode_20/marks\n",
      "tetrode_20/marks_som_1000_200\n",
      "tetrode_20/marks_som_500_500\n",
      "tetrode_20/marks_transformed\n",
      "tetrode_20/positions\n",
      "tetrode_21\n",
      "tetrode_21/marks\n",
      "tetrode_21/marks_som_1000_200\n",
      "tetrode_21/marks_som_500_500\n",
      "tetrode_21/marks_transformed\n",
      "tetrode_21/positions\n",
      "tetrode_22\n",
      "tetrode_22/marks\n",
      "tetrode_22/marks_som_1000_200\n",
      "tetrode_22/marks_som_500_500\n",
      "tetrode_22/marks_transformed\n",
      "tetrode_22/positions\n",
      "tetrode_23\n",
      "tetrode_23/marks\n",
      "tetrode_23/marks_som_1000_200\n",
      "tetrode_23/marks_som_500_500\n",
      "tetrode_23/marks_transformed\n",
      "tetrode_23/positions\n",
      "tetrode_3\n",
      "tetrode_3/marks\n",
      "tetrode_3/marks_som_1000_200\n",
      "tetrode_3/marks_som_500_500\n",
      "tetrode_3/marks_som_500_500_likelihood\n",
      "tetrode_3/marks_transformed\n",
      "tetrode_3/positions\n",
      "tetrode_4\n",
      "tetrode_4/marks\n",
      "tetrode_4/marks_som_1000_200\n",
      "tetrode_4/marks_som_500_500\n",
      "tetrode_4/marks_transformed\n",
      "tetrode_4/positions\n",
      "tetrode_5\n",
      "tetrode_5/marks\n",
      "tetrode_5/marks_som_1000_200\n",
      "tetrode_5/marks_som_500_500\n",
      "tetrode_5/marks_transformed\n",
      "tetrode_5/positions\n",
      "tetrode_6\n",
      "tetrode_6/marks\n",
      "tetrode_6/marks_som_1000_200\n",
      "tetrode_6/marks_som_500_500\n",
      "tetrode_6/marks_transformed\n",
      "tetrode_6/positions\n",
      "tetrode_7\n",
      "tetrode_7/marks\n",
      "tetrode_7/marks_som_1000_200\n",
      "tetrode_7/marks_som_500_500\n",
      "tetrode_7/marks_transformed\n",
      "tetrode_7/positions\n",
      "tetrode_8\n",
      "tetrode_8/marks\n",
      "tetrode_8/marks_som_1000_200\n",
      "tetrode_8/marks_som_500_500\n",
      "tetrode_8/marks_transformed\n",
      "tetrode_8/positions\n",
      "tetrode_9\n",
      "tetrode_9/marks\n",
      "tetrode_9/marks_som_1000_200\n",
      "tetrode_9/marks_som_500_500\n",
      "tetrode_9/marks_transformed\n",
      "tetrode_9/positions\n"
     ]
    }
   ],
   "source": [
    "with h5py.File(fname, 'r') as f:\n",
    "    f.visit(print)"
   ]
  },
  {
   "cell_type": "code",
   "execution_count": 4,
   "metadata": {},
   "outputs": [],
   "source": [
    "tetrode_id = 4\n",
    "scheme_name = 'som_500_500'"
   ]
  },
  {
   "cell_type": "code",
   "execution_count": 5,
   "metadata": {},
   "outputs": [],
   "source": [
    "def get_position_multiunits(tetrode_id, scheme_name):\n",
    "    position = ndr.data.retrieve_hdf5_file_positions(fname, tetrode_id)\n",
    "    multiunits = ndr.data.retrieve_hdf5_file(fname, tetrode_id, scheme_name)\n",
    "\n",
    "    n_spikes, n_dim = multiunits.shape\n",
    "\n",
    "    multiunits = multiunits.reshape((n_spikes, n_dim, 1))\n",
    "\n",
    "    print(position.shape)\n",
    "    print(multiunits.shape)\n",
    "    \n",
    "    return multiunits, position"
   ]
  },
  {
   "cell_type": "code",
   "execution_count": 6,
   "metadata": {},
   "outputs": [
    {
     "name": "stdout",
     "output_type": "stream",
     "text": [
      "(90925, 1)\n",
      "(90925, 3, 1)\n"
     ]
    }
   ],
   "source": [
    "multiunits, position = get_position_multiunits(tetrode_id, scheme_name)"
   ]
  },
  {
   "cell_type": "code",
   "execution_count": 7,
   "metadata": {},
   "outputs": [],
   "source": [
    "from replay_trajectory_classification import ClusterlessDecoder\n",
    "import numpy as np"
   ]
  },
  {
   "cell_type": "code",
   "execution_count": 8,
   "metadata": {},
   "outputs": [
    {
     "name": "stderr",
     "output_type": "stream",
     "text": [
      "/home/trevortknguyen/repos/dimensionality/replay_trajectory_classification/state_transition.py:10: RuntimeWarning: invalid value encountered in true_divide\n",
      "  x /= x.sum(axis=1, keepdims=True)\n"
     ]
    },
    {
     "data": {
      "text/plain": [
       "ClusterlessDecoder(infer_track_interior=True,\n",
       "                   initial_conditions_type='uniform_on_track',\n",
       "                   model=<class 'replay_trajectory_classification.misc.NumbaKDE'>,\n",
       "                   model_kwargs={'bandwidth': array([ 1. ,  1. ,  1. , 12.5])},\n",
       "                   movement_var=0.05,\n",
       "                   occupancy_kwargs={'bandwidth': array([ 1. ,  1. ,  1. , 12.5])},\n",
       "                   occupancy_model=<class 'replay_trajectory_classification.misc.NumbaKDE'>,\n",
       "                   place_bin_size=2.0, position_range=None, replay_speed=40,\n",
       "                   transition_type='random_walk')"
      ]
     },
     "execution_count": 8,
     "metadata": {},
     "output_type": "execute_result"
    }
   ],
   "source": [
    "model_kwargs = {\n",
    "    'bandwidth': np.array([1.0, 1.0, 1.0, 6.0]) # 1, 2, 3, 4, position\n",
    "}\n",
    "decoder_raw = ClusterlessDecoder(model_kwargs=model_kwargs)  \n",
    "\n",
    "decoder_raw.fit(position, multiunits)"
   ]
  },
  {
   "cell_type": "code",
   "execution_count": 9,
   "metadata": {},
   "outputs": [],
   "source": [
    "from replay_trajectory_classification.multiunit_likelihood import estimate_multiunit_likelihood"
   ]
  },
  {
   "cell_type": "code",
   "execution_count": 11,
   "metadata": {},
   "outputs": [
    {
     "name": "stdout",
     "output_type": "stream",
     "text": [
      "CPU times: user 1h 14min 36s, sys: 1.81 s, total: 1h 14min 38s\n",
      "Wall time: 9min 37s\n"
     ]
    }
   ],
   "source": [
    "%%time\n",
    "likelihood = estimate_multiunit_likelihood(\n",
    "            multiunits[:3000], decoder_raw.place_bin_centers_,\n",
    "            decoder_raw.joint_pdf_models_, decoder_raw.ground_process_intensities_,\n",
    "            decoder_raw.occupancy_, decoder_raw.mean_rates_,\n",
    "            decoder_raw.is_track_interior_.ravel(order='F'))"
   ]
  },
  {
   "cell_type": "code",
   "execution_count": null,
   "metadata": {},
   "outputs": [],
   "source": [
    "%%time\n",
    "preds = decoder_raw.predict(multiunits)"
   ]
  },
  {
   "cell_type": "code",
   "execution_count": null,
   "metadata": {},
   "outputs": [],
   "source": [
    "preds['likelihood'].values"
   ]
  },
  {
   "cell_type": "code",
   "execution_count": null,
   "metadata": {},
   "outputs": [],
   "source": [
    "likelihoods = preds['likelihood'].values"
   ]
  },
  {
   "cell_type": "code",
   "execution_count": null,
   "metadata": {},
   "outputs": [],
   "source": [
    "\n",
    "with h5py.File(fname, 'r+') as f:                                        \n",
    "    ds_transformed = f.create_dataset(f'tetrode_{tetrode_id}/marks_{scheme_name}_likelihood', likelihoods.shape, dtype='f')\n",
    "    ds_transformed[:] = likelihoods"
   ]
  },
  {
   "cell_type": "code",
   "execution_count": null,
   "metadata": {},
   "outputs": [],
   "source": [
    "with h5py.File(fname, 'r') as f:                                        \n",
    "    ds = f[f'tetrode_{tetrode_id}/marks_{scheme_name}_likelihood']\n",
    "    print(ds[()])\n",
    "    print(ds.shape)"
   ]
  },
  {
   "cell_type": "code",
   "execution_count": null,
   "metadata": {},
   "outputs": [],
   "source": []
  }
 ],
 "metadata": {
  "kernelspec": {
   "display_name": "Python 3",
   "language": "python",
   "name": "python3"
  },
  "language_info": {
   "codemirror_mode": {
    "name": "ipython",
    "version": 3
   },
   "file_extension": ".py",
   "mimetype": "text/x-python",
   "name": "python",
   "nbconvert_exporter": "python",
   "pygments_lexer": "ipython3",
   "version": "3.8.5"
  }
 },
 "nbformat": 4,
 "nbformat_minor": 4
}
