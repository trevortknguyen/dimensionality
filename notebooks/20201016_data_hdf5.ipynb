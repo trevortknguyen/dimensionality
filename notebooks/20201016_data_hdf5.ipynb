{
 "cells": [
  {
   "cell_type": "raw",
   "metadata": {},
   "source": [
    "```\n",
    "import neural_dimensionality_reduction as ndr\n",
    "dat = ndr.data.get_spikes_data(ndr.data.data_dir, tetrode_id=0)\n",
    "import h5py\n",
    "f = h5py.File('remy.hdf5', 'w')\n",
    "ds = f.create_dataset(\"tetrode_0/marks\", dat[0].shape, dtype='f')\n",
    " ds[:] = dat[0]\n",
    " ds = f.create_dataset(\"tetrode_0/positions\", (dat[1].shape[0],), dtype='f')\n",
    "ds[:] = dat[1][:,0]\n",
    "\n",
    "```"
   ]
  },
  {
   "cell_type": "code",
   "execution_count": 1,
   "metadata": {},
   "outputs": [],
   "source": [
    "import neural_dimensionality_reduction as ndr\n",
    "import h5py"
   ]
  },
  {
   "cell_type": "code",
   "execution_count": 2,
   "metadata": {},
   "outputs": [],
   "source": [
    "fname = '../remy.hdf5'\n",
    "\n",
    "def update_hdf5(fname, tetrode_id):\n",
    "    marks, positions = ndr.data.get_spikes_data(ndr.data.data_dir, tetrode_id=tetrode_id)\n",
    "\n",
    "    som = ndr.reduction.SelfOrganizingMap3D((16, 16, 16, 4), 800, 200)\n",
    "\n",
    "    for i in range(marks.shape[0]):\n",
    "            som.train1(marks[i])\n",
    "\n",
    "    transformed, _ = ndr.reduction.get_transformed_colors_3d(som, marks)\n",
    "\n",
    "    with h5py.File(fname, 'r+') as f:\n",
    "        ds_marks = f.create_dataset(f\"tetrode_{tetrode_id}/marks\", marks.shape, dtype='f')\n",
    "        ds_marks[:] = marks\n",
    "\n",
    "        ds_positions = f.create_dataset(f\"tetrode_{tetrode_id}/positions\", positions.shape, dtype='f')\n",
    "        ds_positions[:] = positions\n",
    "\n",
    "        ds_transformed = f.create_dataset(f\"tetrode_{tetrode_id}/marks_transformed\", transformed.shape, dtype='f')\n",
    "        ds_transformed[:] = transformed"
   ]
  },
  {
   "cell_type": "code",
   "execution_count": 11,
   "metadata": {},
   "outputs": [
    {
     "name": "stdout",
     "output_type": "stream",
     "text": [
      "tetrode_0\n",
      "tetrode_0/marks\n",
      "tetrode_0/marks_transformed\n",
      "tetrode_0/positions\n",
      "tetrode_1\n",
      "tetrode_1/marks\n",
      "tetrode_1/marks_transformed\n",
      "tetrode_1/positions\n",
      "tetrode_10\n",
      "tetrode_10/marks\n",
      "tetrode_10/marks_transformed\n",
      "tetrode_10/positions\n",
      "tetrode_11\n",
      "tetrode_11/marks\n",
      "tetrode_11/marks_transformed\n",
      "tetrode_11/positions\n",
      "tetrode_12\n",
      "tetrode_12/marks\n",
      "tetrode_12/marks_transformed\n",
      "tetrode_12/positions\n",
      "tetrode_13\n",
      "tetrode_13/marks\n",
      "tetrode_13/marks_transformed\n",
      "tetrode_13/positions\n",
      "tetrode_14\n",
      "tetrode_14/marks\n",
      "tetrode_14/marks_transformed\n",
      "tetrode_14/positions\n",
      "tetrode_15\n",
      "tetrode_15/marks\n",
      "tetrode_15/marks_transformed\n",
      "tetrode_15/positions\n",
      "tetrode_16\n",
      "tetrode_16/marks\n",
      "tetrode_16/marks_transformed\n",
      "tetrode_16/positions\n",
      "tetrode_17\n",
      "tetrode_17/marks\n",
      "tetrode_17/marks_transformed\n",
      "tetrode_17/positions\n",
      "tetrode_18\n",
      "tetrode_18/marks\n",
      "tetrode_18/marks_transformed\n",
      "tetrode_18/positions\n",
      "tetrode_19\n",
      "tetrode_19/marks\n",
      "tetrode_19/marks_transformed\n",
      "tetrode_19/positions\n",
      "tetrode_2\n",
      "tetrode_2/marks\n",
      "tetrode_2/marks_transformed\n",
      "tetrode_2/positions\n",
      "tetrode_20\n",
      "tetrode_20/marks\n",
      "tetrode_20/marks_transformed\n",
      "tetrode_20/positions\n",
      "tetrode_21\n",
      "tetrode_21/marks\n",
      "tetrode_21/marks_transformed\n",
      "tetrode_21/positions\n",
      "tetrode_22\n",
      "tetrode_22/marks\n",
      "tetrode_22/marks_transformed\n",
      "tetrode_22/positions\n",
      "tetrode_23\n",
      "tetrode_23/marks\n",
      "tetrode_23/marks_transformed\n",
      "tetrode_23/positions\n",
      "tetrode_3\n",
      "tetrode_3/marks\n",
      "tetrode_3/marks_transformed\n",
      "tetrode_3/positions\n",
      "tetrode_4\n",
      "tetrode_4/marks\n",
      "tetrode_4/marks_transformed\n",
      "tetrode_4/positions\n",
      "tetrode_5\n",
      "tetrode_5/marks\n",
      "tetrode_5/marks_transformed\n",
      "tetrode_5/positions\n",
      "tetrode_6\n",
      "tetrode_6/marks\n",
      "tetrode_6/marks_transformed\n",
      "tetrode_6/positions\n",
      "tetrode_7\n",
      "tetrode_7/marks\n",
      "tetrode_7/marks_transformed\n",
      "tetrode_7/positions\n",
      "tetrode_8\n",
      "tetrode_8/marks\n",
      "tetrode_8/marks_transformed\n",
      "tetrode_8/positions\n",
      "tetrode_9\n",
      "tetrode_9/marks\n",
      "tetrode_9/marks_transformed\n",
      "tetrode_9/positions\n"
     ]
    }
   ],
   "source": [
    "with h5py.File(fname, 'r+') as f:\n",
    "    f.visit(print)"
   ]
  },
  {
   "cell_type": "code",
   "execution_count": 10,
   "metadata": {},
   "outputs": [
    {
     "name": "stdout",
     "output_type": "stream",
     "text": [
      "CPU times: user 4min 10s, sys: 1.76 s, total: 4min 12s\n",
      "Wall time: 4min 12s\n"
     ]
    }
   ],
   "source": [
    "%%time\n",
    "\n",
    "for i in range(11, 24):\n",
    "    update_hdf5(fname, i)"
   ]
  },
  {
   "cell_type": "code",
   "execution_count": null,
   "metadata": {},
   "outputs": [],
   "source": []
  }
 ],
 "metadata": {
  "kernelspec": {
   "display_name": "Python 3",
   "language": "python",
   "name": "python3"
  },
  "language_info": {
   "codemirror_mode": {
    "name": "ipython",
    "version": 3
   },
   "file_extension": ".py",
   "mimetype": "text/x-python",
   "name": "python",
   "nbconvert_exporter": "python",
   "pygments_lexer": "ipython3",
   "version": "3.8.5"
  }
 },
 "nbformat": 4,
 "nbformat_minor": 4
}
