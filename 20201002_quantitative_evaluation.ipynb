{
 "cells": [
  {
   "cell_type": "markdown",
   "metadata": {},
   "source": [
    "# Notebook from October 2, 2020\n",
    "\n",
    "Focus on getting quantitative evaluation."
   ]
  },
  {
   "cell_type": "code",
   "execution_count": 1,
   "metadata": {},
   "outputs": [],
   "source": [
    "from replay_trajectory_classification import ClusterlessDecoder\n",
    "from replay_trajectory_classification.state_transition import estimate_movement_var\n",
    "from replay_trajectory_classification.misc import NumbaKDE"
   ]
  },
  {
   "cell_type": "code",
   "execution_count": 2,
   "metadata": {},
   "outputs": [],
   "source": [
    "def get_decoder():\n",
    "    model_kwargs = {\n",
    "    'bandwidth': np.array([1.0, 1.0, 1.0, 1.0, 12.5]) # amplitude 1, amplitude 2, amplitude 3, amplitude 4, position\n",
    "    }\n",
    "\n",
    "    decoder = ClusterlessDecoder(model_kwargs=model_kwargs)\n",
    "    \n",
    "    return decoder"
   ]
  },
  {
   "cell_type": "code",
   "execution_count": 8,
   "metadata": {},
   "outputs": [],
   "source": [
    "from neural_dimensionality_reduction import get_formatted_data\n",
    "import neural_dimensionality_reduction as ndr\n",
    "import numpy as np"
   ]
  },
  {
   "cell_type": "code",
   "execution_count": 15,
   "metadata": {},
   "outputs": [
    {
     "name": "stdout",
     "output_type": "stream",
     "text": [
      "(615851,)\n",
      "(615851, 4, 1)\n"
     ]
    },
    {
     "name": "stderr",
     "output_type": "stream",
     "text": [
      "/nix/store/hb4scs94q1fl6hypm6bz2bbi91dxqci7-python3-3.8.5-env/lib/python3.8/site-packages/IPython/core/interactiveshell.py:3337: DtypeWarning: Columns (11,12,13,15) have mixed types.Specify dtype option on import or set low_memory=False.\n",
      "  if (await self.run_code(code, result,  async_=asy)):\n"
     ]
    }
   ],
   "source": [
    "multiunits, position = get_formatted_data(ndr.data_dir, tetrode_id=6)\n",
    "print(position.shape)\n",
    "print(multiunits.shape)"
   ]
  },
  {
   "cell_type": "code",
   "execution_count": 43,
   "metadata": {},
   "outputs": [],
   "source": [
    "def get_transform(tetrode_id, sigma_function=lambda x: 1, spike_preprocess = None, weights=None):\n",
    "    multiunits, position = get_formatted_data(ndr.data_dir, tetrode_id=tetrode_id)\n",
    "    \n",
    "    multiunits_reshape = multiunits.reshape((multiunits.shape[0], 4))\n",
    "    spikes_bool = np.logical_not(np.isnan(multiunits_reshape)).any(axis=1) \n",
    "    spikes_idx = np.argwhere(spikes_bool).reshape((-1))\n",
    "    print(spikes_idx.shape)\n",
    "    \n",
    "    raw_spikes = multiunits_reshape[spikes_idx]\n",
    "    print(raw_spikes.shape)\n",
    "    \n",
    "    if spike_preprocess is None:\n",
    "        spikes = raw_spikes\n",
    "    else:\n",
    "        spikes = spike_preprocess(raw_spikes)\n",
    "\n",
    "    som = ndr.reduction.SelfOrganizingMap3D((16, 16, 16, 4), mu=0, sigma=1, sigma_function=sigma_function, weights=weights)\n",
    "\n",
    "    for i in range(spikes.shape[0]):\n",
    "        som.train1(spikes[i])\n",
    "\n",
    "    transformed, _ = ndr.reduction.get_transformed_colors_3d(som, spikes)\n",
    "\n",
    "    multiunits_transformed = np.empty((multiunits.shape[0],3))\n",
    "    multiunits_transformed[:] = np.nan\n",
    "    multiunits_transformed[spikes_idx] = transformed\n",
    "    \n",
    "    multiunits_transformed_formatted = multiunits_transformed.reshape((multiunits_transformed.shape[0], multiunits_transformed.shape[1], 1))\n",
    "    \n",
    "    return multiunits_transformed_formatted, position"
   ]
  },
  {
   "cell_type": "code",
   "execution_count": 44,
   "metadata": {
    "scrolled": true
   },
   "outputs": [
    {
     "name": "stdout",
     "output_type": "stream",
     "text": [
      "(44064,)\n",
      "(44064, 4)\n"
     ]
    }
   ],
   "source": [
    "shape = (16, 16, 16, 4)\n",
    "weights = np.random.normal(1000, 500, shape)\n",
    "transformed, position = get_transform(6, weights=weights)"
   ]
  },
  {
   "cell_type": "code",
   "execution_count": 42,
   "metadata": {},
   "outputs": [
    {
     "data": {
      "text/plain": [
       "(615851, 3)"
      ]
     },
     "execution_count": 42,
     "metadata": {},
     "output_type": "execute_result"
    }
   ],
   "source": [
    "transformed.shape"
   ]
  },
  {
   "cell_type": "code",
   "execution_count": null,
   "metadata": {},
   "outputs": [],
   "source": []
  }
 ],
 "metadata": {
  "kernelspec": {
   "display_name": "Python 3",
   "language": "python",
   "name": "python3"
  },
  "language_info": {
   "codemirror_mode": {
    "name": "ipython",
    "version": 3
   },
   "file_extension": ".py",
   "mimetype": "text/x-python",
   "name": "python",
   "nbconvert_exporter": "python",
   "pygments_lexer": "ipython3",
   "version": "3.8.5"
  }
 },
 "nbformat": 4,
 "nbformat_minor": 4
}
